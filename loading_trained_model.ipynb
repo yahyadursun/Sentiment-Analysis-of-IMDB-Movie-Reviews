{
 "cells": [
  {
   "cell_type": "code",
   "execution_count": 2,
   "metadata": {},
   "outputs": [],
   "source": [
    "import pickle\n",
    "with open('model.pkl','rb') as file : \n",
    "    loaded_model = pickle.load(file)\n",
    "\n",
    "\n"
   ]
  },
  {
   "cell_type": "markdown",
   "metadata": {},
   "source": [
    "Making prediction with one sample"
   ]
  },
  {
   "cell_type": "code",
   "execution_count": 38,
   "metadata": {},
   "outputs": [
    {
     "name": "stdout",
     "output_type": "stream",
     "text": [
      "Positive review\n"
     ]
    },
    {
     "name": "stderr",
     "output_type": "stream",
     "text": [
      "[nltk_data] Downloading package stopwords to\n",
      "[nltk_data]     C:\\Users\\yahya\\AppData\\Roaming\\nltk_data...\n",
      "[nltk_data]   Package stopwords is already up-to-date!\n"
     ]
    }
   ],
   "source": [
    "import pickle\n",
    "import nltk\n",
    "from nltk.corpus import stopwords\n",
    "from nltk.stem import PorterStemmer\n",
    "\n",
    "nltk.download('stopwords')\n",
    "\n",
    "def preprocess_text(text):\n",
    "    text=text.lower()\n",
    "    words = text.split()\n",
    "\n",
    "    stop_words = set(stopwords.words('english'))\n",
    "    stemmer = PorterStemmer()\n",
    "    words = [stemmer.stem(word) for word in words if word not in stop_words]\n",
    "    return \" \".join(words)\n",
    "\n",
    "with open('model.pkl','rb') as file:\n",
    "    model = pickle.load(file)\n",
    "\n",
    "with open('tfidf_vectorizer.pkl', 'rb') as file:\n",
    "    vectorizer = pickle.load(file)\n",
    "\n",
    "sample_review = \"the movie is not bad, I like it cinematography and storytelling but overall the movie is a mid, great, beautiful, good\"\n",
    "\n",
    "processed_review = preprocess_text(sample_review)\n",
    "\n",
    "X_test = vectorizer.transform([processed_review])\n",
    "\n",
    "X_test_dense = X_test.toarray()\n",
    "\n",
    "prediction = model.predict(X_test_dense)\n",
    "\n",
    "if prediction == 1:\n",
    "    print(\"Positive review\")\n",
    "else:\n",
    "    print(\"Negative review\")\n"
   ]
  },
  {
   "cell_type": "code",
   "execution_count": 37,
   "metadata": {},
   "outputs": [
    {
     "name": "stdout",
     "output_type": "stream",
     "text": [
      "Original Text: the movie is not bad, I like it cinematography and storytelling but overall the movie is a mid, great, beautiful, good \n",
      "Lowercased Text: the movie is not bad, i like it cinematography and storytelling but overall the movie is a mid, great, beautiful, good \n",
      "Words List: ['the', 'movie', 'is', 'not', 'bad,', 'i', 'like', 'it', 'cinematography', 'and', 'storytelling', 'but', 'overall', 'the', 'movie', 'is', 'a', 'mid,', 'great,', 'beautiful,', 'good']\n",
      "Original Stopwords List: {'of', 'was', \"doesn't\", 'my', \"hasn't\", \"that'll\", 'having', 'very', 'isn', 'does', 'she', \"haven't\", 'not', 'those', 'didn', 'himself', 'all', \"isn't\", 'where', 'up', 'whom', 'a', 'into', 'needn', \"wasn't\", 'they', 'these', 'as', \"you'd\", 'more', 'now', 'him', \"won't\", 'weren', 'about', 'myself', 'm', 'down', 'what', 'yourselves', 'there', 'once', 'how', 'don', 'll', 'nor', 'aren', 're', \"didn't\", 'shan', 'between', 'above', 'until', \"don't\", 'should', 'here', 'am', 'just', 'each', 'did', 'under', 't', 'over', \"you've\", 'off', 'our', 'is', 'them', 'in', \"aren't\", 'won', 'because', \"you'll\", 'so', 'yours', 's', 'do', 'their', 'by', 'too', 'against', 'can', 'with', \"wouldn't\", 'been', 'out', 'below', \"couldn't\", 'hers', \"she's\", 'during', 'other', 'hadn', 'themselves', 'ours', 'couldn', 'mustn', 'if', 'some', 'but', \"weren't\", 'have', 'you', 'again', 'any', 'her', 'such', 'the', 'we', 'through', 'same', 'he', 'being', 'be', 'to', 'are', 'both', 'hasn', \"it's\", 'no', \"you're\", 'ourselves', 'from', \"shan't\", 'haven', 'then', 'me', 'wasn', 'o', 'had', 'doing', 'than', 'were', 'this', \"shouldn't\", 'its', 'and', 'd', 'who', 'few', \"needn't\", 'mightn', 'while', 'yourself', 'an', 'theirs', 'or', 'before', 'shouldn', 'y', 'most', 'will', 've', 'on', 'doesn', 'ain', 'when', 'at', 'own', 'his', 'itself', 'i', 'for', 'only', 'herself', 'wouldn', 'ma', 'it', 'your', 'that', \"mustn't\", \"mightn't\", 'further', 'has', 'which', 'after', 'why', \"should've\", \"hadn't\"}\n",
      "Stopwords List After Discarding 'not': {'of', 'was', \"doesn't\", 'my', \"hasn't\", \"that'll\", 'having', 'very', 'isn', 'does', 'she', \"haven't\", 'those', 'didn', 'himself', 'all', \"isn't\", 'where', 'up', 'whom', 'a', 'into', 'needn', \"wasn't\", 'they', 'these', 'as', \"you'd\", 'more', 'now', 'him', \"won't\", 'weren', 'about', 'myself', 'm', 'down', 'what', 'yourselves', 'there', 'once', 'how', 'don', 'll', 'nor', 'aren', 're', \"didn't\", 'shan', 'between', 'above', 'until', \"don't\", 'should', 'here', 'am', 'just', 'each', 'did', 'under', 't', 'over', \"you've\", 'off', 'our', 'is', 'them', 'in', \"aren't\", 'won', 'because', \"you'll\", 'so', 'yours', 's', 'do', 'their', 'by', 'too', 'against', 'can', 'with', \"wouldn't\", 'been', 'out', 'below', \"couldn't\", 'hers', \"she's\", 'during', 'other', 'hadn', 'themselves', 'ours', 'couldn', 'mustn', 'if', 'some', 'but', \"weren't\", 'have', 'you', 'again', 'any', 'her', 'such', 'the', 'we', 'through', 'same', 'he', 'being', 'be', 'to', 'are', 'both', 'hasn', \"it's\", 'no', \"you're\", 'ourselves', 'from', \"shan't\", 'haven', 'then', 'me', 'wasn', 'o', 'had', 'doing', 'than', 'were', 'this', \"shouldn't\", 'its', 'and', 'd', 'who', 'few', \"needn't\", 'mightn', 'while', 'yourself', 'an', 'theirs', 'or', 'before', 'shouldn', 'y', 'most', 'will', 've', 'on', 'doesn', 'ain', 'when', 'at', 'own', 'his', 'itself', 'i', 'for', 'only', 'herself', 'wouldn', 'ma', 'it', 'your', 'that', \"mustn't\", \"mightn't\", 'further', 'has', 'which', 'after', 'why', \"should've\", \"hadn't\"}\n",
      "Stemmed Words: ['movi', 'not', 'bad,', 'like', 'cinematographi', 'storytel', 'overal', 'movi', 'mid,', 'great,', 'beautiful,', 'good']\n",
      "Processed Text: movi not bad, like cinematographi storytel overal movi mid, great, beautiful, good\n",
      "Predicted class: 1\n",
      "Positive review\n"
     ]
    },
    {
     "name": "stderr",
     "output_type": "stream",
     "text": [
      "[nltk_data] Downloading package stopwords to\n",
      "[nltk_data]     C:\\Users\\yahya\\AppData\\Roaming\\nltk_data...\n",
      "[nltk_data]   Package stopwords is already up-to-date!\n"
     ]
    }
   ],
   "source": [
    "import pickle\n",
    "import nltk\n",
    "from nltk.corpus import stopwords\n",
    "from nltk.stem import PorterStemmer\n",
    "\n",
    "nltk.download('stopwords')\n",
    "\n",
    "def preprocess_text(text):\n",
    "    print(f\"Original Text: {text}\")  # Orijinal metin\n",
    "\n",
    "    # Metni küçük harfe çevir\n",
    "    text = text.lower()\n",
    "    print(f\"Lowercased Text: {text}\")  # Küçük harfe dönüştürülmüş metin\n",
    "    \n",
    "    # Metni kelimelere ayır\n",
    "    words = text.split()\n",
    "    print(f\"Words List: {words}\")  # Metni kelimelere ayırınca elde edilen liste\n",
    "    \n",
    "    # Stopwords listesini al\n",
    "    stop_words = set(stopwords.words('english'))\n",
    "    print(f\"Original Stopwords List: {stop_words}\")  # Stopwords listesi\n",
    "    \n",
    "    # 'not' kelimesini stopwords'tan çıkarma\n",
    "    # 'not' kelimesi önemli olduğu için işlemde bırakıyoruz, diğerlerini çıkarıyoruz\n",
    "    stop_words.discard('not')  # 'not' kelimesini stopwords'tan çıkarmazsak bile koruyoruz\n",
    "    print(f\"Stopwords List After Discarding 'not': {stop_words}\")  # Güncellenmiş stopwords listesi\n",
    "    \n",
    "    # Kelimeleri stemleme işlemi\n",
    "    stemmer = PorterStemmer()\n",
    "    stemmed_words = [stemmer.stem(word) for word in words if word not in stop_words]\n",
    "    print(f\"Stemmed Words: {stemmed_words}\")  # Stemlenmiş kelimeler\n",
    "\n",
    "    # Sonuçları birleştir\n",
    "    processed_text = \" \".join(stemmed_words)\n",
    "    print(f\"Processed Text: {processed_text}\")  # Son işlenmiş metin\n",
    "    \n",
    "    return processed_text\n",
    "\n",
    "# Model ve vektörleştirici dosyalarını yükle\n",
    "with open('model.pkl', 'rb') as file:\n",
    "    model = pickle.load(file)\n",
    "\n",
    "with open('tfidf_vectorizer.pkl', 'rb') as file:\n",
    "    vectorizer = pickle.load(file)\n",
    "\n",
    "# Test verisi\n",
    "sample_review = \"the movie is not bad, I like it cinematography and storytelling but overall the movie is a mid, great, beautiful, good \"\n",
    "\n",
    "# Ön işleme işlemi\n",
    "processed_review = preprocess_text(sample_review)\n",
    "\n",
    "# Veriyi vektörleştirici ile dönüştürme\n",
    "X_test = vectorizer.transform([processed_review])\n",
    "\n",
    "# Sparse matrix'i dense array'e dönüştürme\n",
    "X_test_dense = X_test.toarray()\n",
    "\n",
    "# Model ile tahmin yapma\n",
    "prediction = model.predict(X_test_dense)\n",
    "\n",
    "print(f\"Predicted class: {prediction[0]}\")\n",
    "\n",
    "if prediction == 1:\n",
    "    print(\"Positive review\")\n",
    "else:\n",
    "    print(\"Negative review\")\n"
   ]
  }
 ],
 "metadata": {
  "kernelspec": {
   "display_name": "Python 3",
   "language": "python",
   "name": "python3"
  },
  "language_info": {
   "codemirror_mode": {
    "name": "ipython",
    "version": 3
   },
   "file_extension": ".py",
   "mimetype": "text/x-python",
   "name": "python",
   "nbconvert_exporter": "python",
   "pygments_lexer": "ipython3",
   "version": "3.12.0"
  }
 },
 "nbformat": 4,
 "nbformat_minor": 2
}
